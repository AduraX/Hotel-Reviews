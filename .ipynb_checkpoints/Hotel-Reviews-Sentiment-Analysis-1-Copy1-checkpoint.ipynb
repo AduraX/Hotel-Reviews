{
 "cells": [
  {
   "cell_type": "code",
   "execution_count": 7,
   "metadata": {},
   "outputs": [],
   "source": [
    "import pandas as pd\n",
    "import numpy as np\n",
    "from urllib.request import urlopen\n",
    "from bs4 import BeautifulSoup \n",
    "import os, shutil\n",
    "sep = \"~\"\n",
    "\n",
    "def hotel_details(soup_Page, city2):\n",
    "    hotel_info = \"\"\n",
    "    hotel_Page = soup_Page.find_all(\"div\", {\"class\": \"listing_rating\"}) \n",
    "    \n",
    "    for hotel_details in hotel_Page:  \n",
    "        hotel_rating = hotel_details.find(\"span\")\n",
    "        if hotel_rating != None: hotel_rating = hotel_rating['alt'][0]\n",
    "        else: hotel_rating = \"nan\"\n",
    "        hotel_url = hotel_details.find(\"a\")\n",
    "        if hotel_url != None:\n",
    "            Review_No = hotel_url.find(text=True)\n",
    "            Review_No = Review_No.split(\" \")[0]\n",
    "            hotel_url = hotel_url['href']     \n",
    "            hotel_url_parts = hotel_url.split(\"-\")  \n",
    "            head_url = hotel_url_parts[0] + \"-\" + hotel_url_parts[1] + \"-\" +  hotel_url_parts[2] + \"-\" + hotel_url_parts[3] + \"-\" \n",
    "            tail_url = hotel_url_parts[4] + \"-\" + hotel_url_parts[5]           \n",
    "            #id[2] + sep + name[4]     \n",
    "            hotel_detail = hotel_url_parts[2] + sep + hotel_url_parts[4] + sep + head_url + sep + tail_url + sep + hotel_rating + sep + Review_No\n",
    "            hotel_info = hotel_info + hotel_detail + \"\\n\"\n",
    "    hotel_file = open(city2 + \"/\" + city2 + \"_hotel_file.mcsv\", \"a+\")\n",
    "    hotel_file.write(hotel_info)\n",
    "    hotel_file.close()\n",
    "\n",
    "def hotel_Urls(base_urlx, sub_urlx, cityx):\n",
    "    soup_Page = BeautifulSoup(urlopen(base_urlx + sub_urlx), 'lxml')\n",
    "    div = soup_Page.find('div', {'class': 'unified pagination standard_pagination'})\n",
    "    if div.find(\"span\", {'class': 'nav next ui_button disabled'}) != None: # Last page\n",
    "        hotel_details(soup_Page, cityx)\n",
    "    elif div.find('span', {'class': 'nav previous ui_button disabled'})!=None: # First page\n",
    "        hotel_details(soup_Page, cityx)\n",
    "        urlmen = div.find('a', href = True)\n",
    "        urlmen = urlmen['href']\n",
    "        hotel_Urls(base_urlx, urlmen, cityx)\n",
    "    else:\n",
    "        hotel_details(soup_Page, cityx)\n",
    "        urlmen = div.find_all('a', href = True)\n",
    "        urlmen = urlmen[1]['href']\n",
    "        hotel_Urls(base_urlx, urlmen, cityx)\n",
    "\n",
    "def hotel_review(page_url):\n",
    "    page_review_string = \"\"\n",
    "    page_review = \"\"\n",
    "    soup = BeautifulSoup(urlopen(page_url), \"lxml\")\n",
    "    \n",
    "    #find all reviews on page and prepare to extract urls\n",
    "    reviews_onpage = soup.find_all(\"div\", {\"class\": \"reviewSelector\"})\n",
    "    review_urls = []\n",
    "    #extract urls from each review and get a list of review urls\n",
    "    for review in reviews_onpage:\n",
    "        review_url = review.find('a', href = True)\n",
    "        review_id = review['id']\n",
    "        if str(type(review_url)) != \"<type 'NoneType'>\":\n",
    "            review_url = review_url['href']\n",
    "            curr_review = {'id' : review_id, 'url' : review_url}\n",
    "            review_urls.append(curr_review)\n",
    "     \n",
    "    #begin processing reviews\n",
    "    for url in review_urls:\n",
    "        #construct url and request html\n",
    "        soup = BeautifulSoup(urlopen(base_url + url['url']), \"lxml\")\n",
    "        \n",
    "        highlight_review = soup.find(\"div\", {\"id\" : url['id']})        \n",
    "        if highlight_review is not None:\n",
    "            title = review_body = rati = value = locat = sleep = rooms = clean = servi = other = \"nan\"\n",
    "            \n",
    "            review_title  = highlight_review.find(\"div\", {\"property\": \"name\"})  \n",
    "            if review_title != None: title = review_title.getText()\n",
    "                \n",
    "            review_rating = highlight_review.find(\"div\", {\"class\": \"rating reviewItemInline\"})\n",
    "            if review_rating != None: \n",
    "                review_rating = review_rating.find(\"img\")  \n",
    "                if review_rating != None: rati = review_rating['alt'][0]\n",
    "                    \n",
    "            review_body = highlight_review.find(\"p\", {\"property\": \"reviewBody\"})\n",
    "            if review_body != None: \n",
    "                body =  review_body.getText(separator=' ') \n",
    "                body = body.replace('\\n', '').replace('\\r', '')\n",
    "\n",
    "            quality_ratings = highlight_review.find_all(\"li\", {\"class\": \"recommend-answer\"})\n",
    "            if quality_ratings != None:  \n",
    "                for rating in quality_ratings:\n",
    "                    description = rating.find(\"div\", {\"class\": \"recommend-description\"})\n",
    "                    description = description.find(text = True)\n",
    "                    score = rating.find(\"span\")            \n",
    "                    score = score['alt']\n",
    "                    if   description == \"Value\":    value = score[0]\n",
    "                    elif description == \"Location\": locat = score[0]\n",
    "                    elif description == \"Sleep Quality\": sleep = score[0]\n",
    "                    elif description == \"Rooms\": rooms = score[0]\n",
    "                    elif description == \"Cleanliness\": clean = score[0]\n",
    "                    elif description == \"Service\": servi = score[0]\n",
    "                    else: other = score[0]\n",
    "                    \n",
    "            page_review = url['id'] + sep + title + sep + body + sep + rati + sep \\\n",
    "                        + value + sep + locat + sep + sleep + sep + rooms + sep + clean + sep + servi + sep + other\n",
    "            page_review_string = page_review_string + page_review + \"\\n\"\n",
    "    return(page_review_string)\n",
    "\n",
    "\n",
    "def hotel_run(base_urls, sub_urls, citys, cutNo_hotels, cutNo_reviews):\n",
    "    print(\"\\n*********** Scraping reviews for \" + str(cutNo_hotels) + \" hotels ******************\")    \n",
    "    if os.path.exists(citys): shutil.rmtree(citys)\n",
    "    os.makedirs(citys)\n",
    "    hotel_Urls(base_urls, sub_urls, citys)\n",
    "    \n",
    "    hotel_df = pd.read_csv(citys + \"/\" + citys + \"_hotel_file.mcsv\", sep=\"~\", header=None, names = ['id', 'name', 'urlh', 'urlt', 'rat', 'reno'])\n",
    "    hotel_df.drop_duplicates(['id'], inplace=True)\n",
    "    hotel_df.reset_index(inplace=True)\n",
    "    \n",
    "    for index, row in hotel_df.iterrows():\n",
    "        output_string = \"\"\n",
    "        hotel_name = row['name']\n",
    "        head_urls = row['urlh']\n",
    "        tail_urls = row['urlt']\n",
    "        no_review = int(row['reno'].replace(',','')) \n",
    "        if no_review > cutNo_reviews: no_review = cutNo_reviews\n",
    "        _or_value = 0\n",
    "        \n",
    "        if index > cutNo_hotels: # cutoff number of hotels to study\n",
    "            print(\"*********** Finished With Index: ***********************************\")\n",
    "            break \n",
    "\n",
    "        print(\"\\t \" + str(index) + \": Scraping \" + str(no_review) + \" reviews of \" + hotel_name) \n",
    "        while (_or_value < no_review):\n",
    "            if _or_value == 0: _or = \"\"\n",
    "            else:  _or = \"or\" + str(_or_value) + \"-\"\n",
    "            reviewpg_url = base_urls + head_urls + _or + tail_urls \n",
    "            output_string = output_string + hotel_review(reviewpg_url)\n",
    "            _or_value = _or_value + 10   \n",
    "        review_file = open(citys + \"/\" + hotel_name + \"-review.mcsv\", \"a+\", encoding=\"utf-8\") \n",
    "        review_file.write(output_string)\n",
    "        review_file.close()       "
   ]
  },
  {
   "cell_type": "code",
   "execution_count": null,
   "metadata": {
    "scrolled": true
   },
   "outputs": [
    {
     "name": "stdout",
     "output_type": "stream",
     "text": [
      "\n",
      "*********** Scraping reviews for 40 hotels ******************\n",
      "\t 0: Scraping 100 reviews of Hyatt_Hotel_Canberra\n"
     ]
    }
   ],
   "source": [
    "cutNo_hotel = 40\n",
    "cutNo_review = 100\n",
    "base_url = \"http://www.tripadvisor.com.au\"\n",
    "sub_url = \"/Hotels-g255057-Canberra_Australian_Capital_Territory-Hotels.html\"\n",
    "city = \"Canberra\"\n",
    "hotel_run(base_url, sub_url, city, cutNo_hotel, cutNo_review)"
   ]
  },
  {
   "cell_type": "code",
   "execution_count": null,
   "metadata": {},
   "outputs": [],
   "source": [
    "cutNo_hotel = 40\n",
    "cutNo_review = 100\n",
    "base_url = \"http://www.tripadvisor.com.au\"\n",
    "sub_url = \"/Hotels-g255060-Sydney_New_South_Wales-Hotels.html\"\n",
    "city = \"Sydney\"\n",
    "hotel_run(base_url, sub_url, city, cutNo_hotel, cutNo_review)"
   ]
  },
  {
   "cell_type": "code",
   "execution_count": null,
   "metadata": {
    "collapsed": true
   },
   "outputs": [],
   "source": [
    "cutNo_hotel = 40\n",
    "cutNo_review = 100\n",
    "base_url = \"http://www.tripadvisor.com.au\"\n",
    "sub_url = \"/Hotels-g255100-Melbourne_Victoria-Hotels.html\"\n",
    "city = \"Melbourne\"\n",
    "hotel_run(base_url, sub_url, city, cutNo_hotel, cutNo_review)"
   ]
  },
  {
   "cell_type": "code",
   "execution_count": null,
   "metadata": {},
   "outputs": [],
   "source": [
    "cutNo_hotel = 40\n",
    "cutNo_review = 100\n",
    "base_url = \"http://www.tripadvisor.com.au\"\n",
    "sub_url = \"/Hotels-g255068-Brisbane_Brisbane_Region_Queensland-Hotels.html\"\n",
    "city = \"Brisbane\"\n",
    "hotel_run(base_url, sub_url, city, cutNo_hotel, cutNo_review)"
   ]
  },
  {
   "cell_type": "code",
   "execution_count": null,
   "metadata": {},
   "outputs": [],
   "source": [
    "cutNo_hotel = 30\n",
    "cutNo_review = 50\n",
    "base_url = \"http://www.tripadvisor.com.au\"\n",
    "sub_url = \"/Hotels-g255103-Perth_Greater_Perth_Western_Australia-Hotels.html\"\n",
    "city = \"Perth\"\n",
    "hotel_run(base_url, sub_url, city, cutNo_hotel, cutNo_review)"
   ]
  },
  {
   "cell_type": "code",
   "execution_count": null,
   "metadata": {
    "collapsed": true
   },
   "outputs": [],
   "source": [
    "cutNo_hotel = 30\n",
    "cutNo_review = 50\n",
    "base_url = \"http://www.tripadvisor.com.au\"\n",
    "sub_url = \"/Hotels-g255097-Hobart_Greater_Hobart_Tasmania-Hotels.html\"\n",
    "city = \"Hobart\"\n",
    "hotel_run(base_url, sub_url, city, cutNo_hotel, cutNo_review)"
   ]
  },
  {
   "cell_type": "code",
   "execution_count": null,
   "metadata": {
    "collapsed": true
   },
   "outputs": [],
   "source": [
    "cutNo_hotel = 30\n",
    "cutNo_review = 50\n",
    "base_url = \"http://www.tripadvisor.com.au\"\n",
    "sub_url = \"/Hotels-g255066-Darwin_Top_End_Northern_Territory-Hotels.html\"\n",
    "city = \"Darwin\"\n",
    "hotel_run(base_url, sub_url, city, cutNo_hotel, cutNo_review)"
   ]
  },
  {
   "cell_type": "code",
   "execution_count": null,
   "metadata": {
    "collapsed": true
   },
   "outputs": [],
   "source": []
  }
 ],
 "metadata": {
  "kernelspec": {
   "display_name": "Python [default]",
   "language": "python",
   "name": "python3"
  }
 },
 "nbformat": 4,
 "nbformat_minor": 2
}
